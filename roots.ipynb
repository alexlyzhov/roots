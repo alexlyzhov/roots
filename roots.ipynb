{
 "cells": [
  {
   "cell_type": "code",
   "execution_count": 1,
   "metadata": {
    "collapsed": true
   },
   "outputs": [],
   "source": [
    "import numpy as np\n",
    "import matplotlib.pyplot as plt\n",
    "import time\n",
    "from tqdm import tqdm\n",
    "# import imageio\n",
    "%matplotlib inline"
   ]
  },
  {
   "cell_type": "code",
   "execution_count": 2,
   "metadata": {
    "collapsed": true
   },
   "outputs": [],
   "source": [
    "img_size = 2048\n",
    "img_center = (img_size - 1) / 2\n",
    "scale = 3\n",
    "max_deg = 30\n",
    "iters = 75000\n",
    "color_saturation = 85 # percentile"
   ]
  },
  {
   "cell_type": "code",
   "execution_count": 3,
   "metadata": {
    "collapsed": true
   },
   "outputs": [],
   "source": [
    "def write_matrix(coeffs):\n",
    "    matrix = np.zeros((img_size, img_size), dtype = np.uint64)\n",
    "    for p in np.arange(iters):\n",
    "        deg = np.random.randint(2, max_deg + 1)\n",
    "        cur_coeffs = [np.random.choice(coeffs) for i in range(deg + 1)] # littlewood polynomial\n",
    "        roots = np.roots(cur_coeffs)\n",
    "        for i in range(len(roots)):\n",
    "            x = int(img_center + roots[i].real * (img_size - 1) / scale)\n",
    "            y = int(img_center + roots[i].imag * (img_size - 1) / scale)\n",
    "            if x >= 0 and x <= img_size -1 and y >= 0 and y <= img_size - 1:\n",
    "                matrix[x, y] += 1\n",
    "    return matrix"
   ]
  },
  {
   "cell_type": "code",
   "execution_count": 23,
   "metadata": {},
   "outputs": [
    {
     "name": "stderr",
     "output_type": "stream",
     "text": [
      "100%|██████████| 30/30 [13:06<00:00, 25.14s/it]\n"
     ]
    }
   ],
   "source": [
    "#     imgs = []\n",
    "for i in tqdm(xrange(30)):\n",
    "    # for first_coeff in tqdm(xrange(1, 31)):\n",
    "    coeffs = sorted([pow(6, 1 + float(i) / 5), -1])\n",
    "    matrix = write_matrix(coeffs)\n",
    "    # matrix_backup = matrix\n",
    "    # matrix = matrix_backup.copy()\n",
    "    \n",
    "    # matrix[:, img_center] = 0 # leave out purely real roots to avoid the line\n",
    "    max_counter = int(np.percentile(matrix[matrix != 0], color_saturation))\n",
    "    matrix = matrix.clip(0, max_counter).astype(np.float64)\n",
    "    matrix = matrix / matrix.max()\n",
    "    \n",
    "    cmap = plt.get_cmap('gnuplot') # gnuplot # hot # inferno\n",
    "    img = cmap(matrix)[:, :, :-1]\n",
    "    \n",
    "    img_displayed = np.transpose(img, axes = [1, 0, 2])\n",
    "#     imgs.append(img_displayed)\n",
    "#     plt.figure(figsize = (20, 20))\n",
    "#     plt.axis('off')\n",
    "#     plt.imshow(img_displayed)\n",
    "    plt.imsave(str(i) + ' .png', img_displayed) # str(coeffs)"
   ]
  },
  {
   "cell_type": "code",
   "execution_count": null,
   "metadata": {
    "collapsed": true
   },
   "outputs": [],
   "source": []
  }
 ],
 "metadata": {
  "kernelspec": {
   "display_name": "Python 2",
   "language": "python",
   "name": "python2"
  },
  "language_info": {
   "codemirror_mode": {
    "name": "ipython",
    "version": 2
   },
   "file_extension": ".py",
   "mimetype": "text/x-python",
   "name": "python",
   "nbconvert_exporter": "python",
   "pygments_lexer": "ipython2",
   "version": "2.7.12"
  }
 },
 "nbformat": 4,
 "nbformat_minor": 2
}
